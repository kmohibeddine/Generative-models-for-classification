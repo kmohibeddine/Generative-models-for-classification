{
 "cells": [
  {
   "cell_type": "code",
   "execution_count": null,
   "metadata": {},
   "outputs": [],
   "source": [
    "import numpy as np\n",
    "import matplotlib.pyplot as plt\n",
    "# Given parameters\n",
    "mu_yes = 10\n",
    "mu_no = 0\n",
    "sigma2 = 36  # Variance\n",
    "sigma = np.sqrt(sigma2)  # Standard deviation\n",
    "pi_yes = 0.8\n",
    "pi_no = 0.2\n",
    "# Define discriminant functions\n",
    "def delta_yes(x):\n",
    "    return (x * mu_yes / sigma2) - (mu_yes**2 / (2 * sigma2)) + np.log(pi_yes)\n",
    "def delta_no(x):\n",
    "    return (x * mu_no / sigma2) - (mu_no**2 / (2 * sigma2)) + np.log(pi_no)\n",
    "# Generate x values\n",
    "x_values = np.linspace(-10, 20, 400)\n",
    "# Compute discriminant values\n",
    "delta_yes_values = delta_yes(x_values)\n",
    "delta_no_values = delta_no(x_values)\n",
    "\n",
    "# Find decision boundary where delta_yes = delta_no\n",
    "decision_boundary = (mu_yes**2 - mu_no**2) / (2 * (mu_yes - mu_no)) + sigma2 * np.log(pi_no / pi_yes) / (mu_yes - mu_no)\n",
    "# Plot\n",
    "plt.figure(figsize=(8, 5))\n",
    "plt.plot(x_values, delta_yes_values, label=r'$\\delta_{\\text{YES}}(x)$', color='blue')\n",
    "plt.plot(x_values, delta_no_values, label=r'$\\delta_{\\text{NO}}(x)$', color='red')\n",
    "plt.axvline(decision_boundary, color='black', linestyle='dashed', label='Decision Boundary')\n",
    "# Labels and title\n",
    "plt.xlabel(\"Profit Percentage (X)\")\n",
    "plt.ylabel(\"Discriminant Score\")\n",
    "plt.title(\"LDA Decision Rule: Discriminant Functions\")\n",
    "plt.legend()\n",
    "plt.grid()\n",
    "# Show plot\n",
    "plt.show()"
   ]
  }
 ],
 "metadata": {
  "kernelspec": {
   "display_name": "Python 3",
   "language": "python",
   "name": "python3"
  },
  "language_info": {
   "codemirror_mode": {
    "name": "ipython",
    "version": 3
   },
   "file_extension": ".py",
   "mimetype": "text/x-python",
   "name": "python",
   "nbconvert_exporter": "python",
   "pygments_lexer": "ipython3",
   "version": "3.6.4"
  }
 },
 "nbformat": 4,
 "nbformat_minor": 2
}
